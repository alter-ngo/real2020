{
 "cells": [
  {
   "cell_type": "markdown",
   "metadata": {},
   "source": [
    "# Imports"
   ]
  },
  {
   "cell_type": "code",
   "execution_count": 36,
   "metadata": {},
   "outputs": [],
   "source": [
    "import json\n",
    "from collections import Counter\n",
    "import numpy as np\n",
    "from pprint import pprint"
   ]
  },
  {
   "cell_type": "markdown",
   "metadata": {},
   "source": [
    "# Data"
   ]
  },
  {
   "cell_type": "code",
   "execution_count": 6,
   "metadata": {},
   "outputs": [],
   "source": [
    "data = json.loads(open('real2020.json', 'rb').read())['institutions']"
   ]
  },
  {
   "cell_type": "code",
   "execution_count": 70,
   "metadata": {},
   "outputs": [],
   "source": [
    "counties = []\n",
    "\n",
    "for institution in data:\n",
    "    counties += [institution['objective']['location'].get('county')]\n",
    "    \n",
    "counties = sorted(set(counties))"
   ]
  },
  {
   "cell_type": "markdown",
   "metadata": {},
   "source": [
    "### Number of institutions in dataset"
   ]
  },
  {
   "cell_type": "code",
   "execution_count": 13,
   "metadata": {},
   "outputs": [
    {
     "data": {
      "text/plain": [
       "1471"
      ]
     },
     "execution_count": 13,
     "metadata": {},
     "output_type": "execute_result"
    }
   ],
   "source": [
    "len(data)"
   ]
  },
  {
   "cell_type": "markdown",
   "metadata": {},
   "source": [
    "### Distribution of variable I27 by county"
   ]
  },
  {
   "cell_type": "code",
   "execution_count": 86,
   "metadata": {},
   "outputs": [
    {
     "data": {
      "text/plain": [
       "{'ALBA': Counter({'Partial': 11, 'Nu': 2, 'Da': 24}),\n",
       " 'ARAD': Counter({'Da': 32, 'Nu': 1, 'Partial': 10}),\n",
       " 'ARGEŞ': Counter({'Da': 23, 'Partial': 18, 'Nu': 1}),\n",
       " 'BACĂU': Counter({'Da': 25, 'Nu': 1, 'Partial': 8}),\n",
       " 'BIHOR': Counter({'Da': 34, 'Partial': 17, 'Nu': 1}),\n",
       " 'BISTRIŢA-NĂSĂUD': Counter({'Partial': 9, 'Da': 18}),\n",
       " 'BOTOŞANI': Counter({'Da': 16, 'Partial': 12, 'Nu': 3}),\n",
       " 'BRAŞOV': Counter({'Da': 40, 'Partial': 4}),\n",
       " 'BRĂILA': Counter({'Da': 12, 'Partial': 8, 'Nu': 1}),\n",
       " 'BUZĂU': Counter({'Da': 18, 'Partial': 14, 'Nu': 1}),\n",
       " 'CARAŞ-SEVERIN': Counter({'Da': 26, 'Partial': 7}),\n",
       " 'CLUJ': Counter({'Da': 50, 'Partial': 11, 'Nu': 1}),\n",
       " 'CONSTANŢA': Counter({'Partial': 13, 'Da': 39, 'Nu': 1}),\n",
       " 'COVASNA': Counter({'Da': 9, 'Partial': 8}),\n",
       " 'CĂLĂRAŞI': Counter({'Da': 16, 'Partial': 3}),\n",
       " 'DOLJ': Counter({'Da': 36, 'Partial': 10, 'Nu': 1}),\n",
       " 'DÂMBOVIŢA': Counter({'Partial': 7, 'Da': 20, 'Nu': 2}),\n",
       " 'GALAŢI': Counter({'Da': 19, 'Partial': 14, 'Nu': 2}),\n",
       " 'GIURGIU': Counter({'Da': 9, 'Partial': 2, 'Nu': 1}),\n",
       " 'GORJ': Counter({'Da': 27, 'Partial': 6, 'Nu': 2}),\n",
       " 'HARGHITA': Counter({'Da': 30, 'Partial': 8}),\n",
       " 'HUNEDOARA': Counter({'Partial': 14, 'Da': 18, 'Nu': 1}),\n",
       " 'IALOMIŢA': Counter({'Da': 13, 'Partial': 5}),\n",
       " 'IAŞI': Counter({'Da': 27, 'Partial': 21}),\n",
       " 'ILFOV': Counter({'Da': 11, 'Partial': 3, 'Nu': 1}),\n",
       " 'MARAMUREŞ': Counter({'Da': 37, 'Partial': 11, 'Nu': 1}),\n",
       " 'MEHEDINŢI': Counter({'Da': 15, 'Partial': 4, 'Nu': 1}),\n",
       " 'MUNICIPIUL BUCUREŞTI': Counter({'Da': 110, 'Partial': 10, 'Nu': 2}),\n",
       " 'MUREŞ': Counter({'Da': 27, 'Partial': 7, 'Nu': 1}),\n",
       " 'NEAMŢ': Counter({'Da': 27, 'Partial': 12, 'Nu': 2}),\n",
       " 'OLT': Counter({'Da': 19, 'Nu': 3, 'Partial': 9}),\n",
       " 'PRAHOVA': Counter({'Da': 33, 'Partial': 16}),\n",
       " 'SATU MARE': Counter({'Partial': 5, 'Da': 23}),\n",
       " 'SUCEAVA': Counter({'Partial': 23, 'Da': 23}),\n",
       " 'SĂLAJ': Counter({'Da': 13, 'Partial': 10}),\n",
       " 'TELEORMAN': Counter({'Partial': 8, 'Da': 9, 'Nu': 3}),\n",
       " 'TIMIŞ': Counter({'Da': 37, 'Partial': 16, 'Nu': 2}),\n",
       " 'TULCEA': Counter({'Da': 14, 'Partial': 4}),\n",
       " 'VASLUI': Counter({'Da': 18, 'Partial': 8}),\n",
       " 'VRANCEA': Counter({'Da': 16, 'Partial': 8}),\n",
       " 'VÂLCEA': Counter({'Da': 17, 'Partial': 8, 'Nu': 1})}"
      ]
     },
     "execution_count": 86,
     "metadata": {},
     "output_type": "execute_result"
    }
   ],
   "source": [
    "toilets = {}\n",
    "\n",
    "for county in counties:\n",
    "    toilets[county] = []\n",
    "    \n",
    "for institution in data:\n",
    "    toilets[institution['objective']['location'].get('county')] += [institution['objective']['resources']['utilities']['toilets']]\n",
    "        \n",
    "for county in counties:\n",
    "    toilets[county] = Counter(toilets[county])\n",
    "    \n",
    "toilets"
   ]
  },
  {
   "cell_type": "markdown",
   "metadata": {},
   "source": [
    "### Distribution of variable I55 by county"
   ]
  },
  {
   "cell_type": "code",
   "execution_count": 71,
   "metadata": {},
   "outputs": [
    {
     "data": {
      "text/plain": [
       "{'ALBA': 25.75206611570248,\n",
       " 'ARAD': 24.13821138211382,\n",
       " 'ARGEŞ': 28.85377358490566,\n",
       " 'BACĂU': 28.050279329608937,\n",
       " 'BIHOR': 25.30344827586207,\n",
       " 'BISTRIŢA-NĂSĂUD': 26.476190476190474,\n",
       " 'BOTOŞANI': 25.5390625,\n",
       " 'BRAŞOV': 24.356828193832598,\n",
       " 'BRĂILA': 27.136363636363637,\n",
       " 'BUZĂU': 28.444444444444443,\n",
       " 'CARAŞ-SEVERIN': 25.714285714285715,\n",
       " 'CLUJ': 26.657894736842106,\n",
       " 'CONSTANŢA': 27.733333333333334,\n",
       " 'COVASNA': 21.426829268292682,\n",
       " 'CĂLĂRAŞI': 28.675675675675677,\n",
       " 'DOLJ': 26.506666666666668,\n",
       " 'DÂMBOVIŢA': 25.584821428571427,\n",
       " 'GALAŢI': 27.21212121212121,\n",
       " 'GIURGIU': 20.5,\n",
       " 'GORJ': 27.65714285714286,\n",
       " 'HARGHITA': 23.472727272727273,\n",
       " 'HUNEDOARA': 24.132867132867133,\n",
       " 'IALOMIŢA': 27.555555555555557,\n",
       " 'IAŞI': 26.698473282442748,\n",
       " 'ILFOV': nan,\n",
       " 'MARAMUREŞ': 24.83050847457627,\n",
       " 'MEHEDINŢI': 25.098765432098766,\n",
       " 'MUNICIPIUL BUCUREŞTI': 27.547687861271676,\n",
       " 'MUREŞ': 25.16842105263158,\n",
       " 'NEAMŢ': 25.21985815602837,\n",
       " 'OLT': 26.8109756097561,\n",
       " 'PRAHOVA': 26.93167701863354,\n",
       " 'SATU MARE': 25.321739130434782,\n",
       " 'SUCEAVA': 25.268456375838927,\n",
       " 'SĂLAJ': 28.425925925925927,\n",
       " 'TELEORMAN': 25.547169811320753,\n",
       " 'TIMIŞ': 24.49685534591195,\n",
       " 'TULCEA': 23.163636363636364,\n",
       " 'VASLUI': 27.889830508474578,\n",
       " 'VRANCEA': 26.66315789473684,\n",
       " 'VÂLCEA': 26.25242718446602}"
      ]
     },
     "execution_count": 71,
     "metadata": {},
     "output_type": "execute_result"
    }
   ],
   "source": [
    "study_formations = {}\n",
    "\n",
    "for county in counties:\n",
    "    study_formations[county] = []\n",
    "    \n",
    "for institution in data:\n",
    "    if institution['objective']['identity'].get('school_type') in ['Liceu teoretic', 'Colegiu Naţional']:\n",
    "        for study_formation in institution['objective']['students']['study_formations']:\n",
    "            if study_formation['type'] in ['Clasa a IX-a', 'Clasa a X-a', 'Clasa a XI-a', 'Clasa a XII-a']:\n",
    "                if study_formation['student_count'] > 0 and study_formation['student_count'] < 100:\n",
    "                    study_formations[institution['objective']['location'].get('county')] += [study_formation['student_count']]\n",
    "        \n",
    "for county in counties:\n",
    "    study_formations[county] = np.mean(study_formations[county])\n",
    "    \n",
    "study_formations"
   ]
  },
  {
   "cell_type": "markdown",
   "metadata": {},
   "source": [
    "### Distribution of variable I80 by county"
   ]
  },
  {
   "cell_type": "code",
   "execution_count": 80,
   "metadata": {},
   "outputs": [
    {
     "data": {
      "text/plain": [
       "{'ALBA': 0.43898683803786487,\n",
       " 'ARAD': 2.392922142062782,\n",
       " 'ARGEŞ': 0.22573717106611096,\n",
       " 'BACĂU': 1.4077446363212427,\n",
       " 'BIHOR': 1.8596717550773645,\n",
       " 'BISTRIŢA-NĂSĂUD': 0.21604179047281666,\n",
       " 'BOTOŞANI': 8.24136604269636,\n",
       " 'BRAŞOV': 0.8794299411523947,\n",
       " 'BRĂILA': 2.7500456439111023,\n",
       " 'BUZĂU': 0.4325000413616986,\n",
       " 'CARAŞ-SEVERIN': 0.48392477284238805,\n",
       " 'CLUJ': 0.8948292414385747,\n",
       " 'CONSTANŢA': nan,\n",
       " 'COVASNA': 0.4464285714285714,\n",
       " 'CĂLĂRAŞI': nan,\n",
       " 'DOLJ': 3.2694318099549027,\n",
       " 'DÂMBOVIŢA': 1.0786326681947793,\n",
       " 'GALAŢI': 0.4376412073533475,\n",
       " 'GIURGIU': 0.7859165655267604,\n",
       " 'GORJ': 0.4569370318591767,\n",
       " 'HARGHITA': 2.693945846383804,\n",
       " 'HUNEDOARA': 21.18531424706639,\n",
       " 'IALOMIŢA': 0.8332994947414827,\n",
       " 'IAŞI': 1.4883125780197337,\n",
       " 'ILFOV': nan,\n",
       " 'MARAMUREŞ': 2.0588235294117645,\n",
       " 'MEHEDINŢI': 2.8238079011137516,\n",
       " 'MUNICIPIUL BUCUREŞTI': 1.1264322395628164,\n",
       " 'MUREŞ': nan,\n",
       " 'NEAMŢ': 2.1514560045009223,\n",
       " 'OLT': 1.5325451256012446,\n",
       " 'PRAHOVA': 1.2086061859653485,\n",
       " 'SATU MARE': 5.792472375690608,\n",
       " 'SUCEAVA': nan,\n",
       " 'SĂLAJ': 0.18128803245436106,\n",
       " 'TELEORMAN': 1.9763224065156335,\n",
       " 'TIMIŞ': 1.9592336605340988,\n",
       " 'TULCEA': 3.018867924528302,\n",
       " 'VASLUI': 0.809569695414177,\n",
       " 'VRANCEA': 1.6149515100880505,\n",
       " 'VÂLCEA': 2.9460059886023378}"
      ]
     },
     "execution_count": 80,
     "metadata": {},
     "output_type": "execute_result"
    }
   ],
   "source": [
    "dropout = {}\n",
    "\n",
    "for county in counties:\n",
    "    dropout[county] = []\n",
    "    \n",
    "for institution in data:\n",
    "    if institution['objective']['identity'].get('school_type') in ['Liceu teoretic', 'Colegiu Naţional']:\n",
    "        if institution['objective']['students']['flux'].get('dropouts') and institution['objective']['students']['flux'].get('registered_initially'):\n",
    "            dropout[institution['objective']['location'].get('county')] += [institution['objective']['students']['flux'].get('dropouts') / institution['objective']['students']['flux'].get('registered_initially')]\n",
    "        \n",
    "for county in counties:\n",
    "    dropout[county] = np.mean(dropout[county]) * 100\n",
    "    \n",
    "dropout"
   ]
  },
  {
   "cell_type": "markdown",
   "metadata": {},
   "source": [
    "### Distribution of variable I05 by county"
   ]
  },
  {
   "cell_type": "code",
   "execution_count": 81,
   "metadata": {},
   "outputs": [
    {
     "data": {
      "text/plain": [
       "{'ALBA': 1955.433962264151,\n",
       " 'ARAD': 1936.3513513513512,\n",
       " 'ARGEŞ': 1969.483870967742,\n",
       " 'BACĂU': 1965.859649122807,\n",
       " 'BIHOR': 1960.4025974025974,\n",
       " 'BISTRIŢA-NĂSĂUD': 1967.34375,\n",
       " 'BOTOŞANI': 1971.4888888888888,\n",
       " 'BRAŞOV': 1942.9857142857143,\n",
       " 'BRĂILA': 1975.64,\n",
       " 'BUZĂU': 1958.7551020408164,\n",
       " 'CARAŞ-SEVERIN': 1954.75,\n",
       " 'CLUJ': 1947.4639175257732,\n",
       " 'CONSTANŢA': 1952.0,\n",
       " 'COVASNA': 1942.2857142857142,\n",
       " 'CĂLĂRAŞI': 1976.4285714285713,\n",
       " 'DOLJ': 1970.0619469026549,\n",
       " 'DÂMBOVIŢA': 1966.063492063492,\n",
       " 'GALAŢI': 1972.820512820513,\n",
       " 'GIURGIU': 1969.3809523809523,\n",
       " 'GORJ': 1977.5142857142857,\n",
       " 'HARGHITA': 1967.775,\n",
       " 'HUNEDOARA': 1953.1147540983607,\n",
       " 'IALOMIŢA': 1988.3846153846155,\n",
       " 'IAŞI': 1965.9514563106795,\n",
       " 'ILFOV': nan,\n",
       " 'MARAMUREŞ': 1969.4193548387098,\n",
       " 'MEHEDINŢI': 1969.5294117647059,\n",
       " 'MUNICIPIUL BUCUREŞTI': 1959.94,\n",
       " 'MUREŞ': 1920.695652173913,\n",
       " 'NEAMŢ': 1963.4098360655737,\n",
       " 'OLT': 1978.361111111111,\n",
       " 'PRAHOVA': 1960.851851851852,\n",
       " 'SATU MARE': 1949.3333333333333,\n",
       " 'SUCEAVA': 1955.057142857143,\n",
       " 'SĂLAJ': 1958.5294117647059,\n",
       " 'TELEORMAN': 1971.4411764705883,\n",
       " 'TIMIŞ': 1945.4819277108434,\n",
       " 'TULCEA': 1981.392857142857,\n",
       " 'VASLUI': 1968.9259259259259,\n",
       " 'VRANCEA': 1962.4642857142858,\n",
       " 'VÂLCEA': 1967.8823529411766}"
      ]
     },
     "execution_count": 81,
     "metadata": {},
     "output_type": "execute_result"
    }
   ],
   "source": [
    "construction_year = {}\n",
    "\n",
    "for county in counties:\n",
    "    construction_year[county] = []\n",
    "    \n",
    "for institution in data:\n",
    "    if institution['objective']['identity'].get('school_type') in ['Liceu teoretic', 'Colegiu Naţional']:\n",
    "        for building in institution['objective']['resources']['buildings']:\n",
    "            construction_year[institution['objective']['location'].get('county')] += [building['construction_year']]\n",
    "        \n",
    "for county in counties:\n",
    "    construction_year[county] = np.mean(construction_year[county])\n",
    "    \n",
    "construction_year"
   ]
  },
  {
   "cell_type": "markdown",
   "metadata": {},
   "source": [
    "### Distribution of variable I19 by county"
   ]
  },
  {
   "cell_type": "code",
   "execution_count": 87,
   "metadata": {},
   "outputs": [
    {
     "data": {
      "text/plain": [
       "{'ALBA': Counter({True: 32, False: 2}),\n",
       " 'ARAD': Counter({True: 16}),\n",
       " 'ARGEŞ': Counter({True: 11, False: 1}),\n",
       " 'BACĂU': Counter({True: 12}),\n",
       " 'BIHOR': Counter({True: 24, False: 1}),\n",
       " 'BISTRIŢA-NĂSĂUD': Counter({True: 18, False: 1}),\n",
       " 'BOTOŞANI': Counter({True: 31, False: 6}),\n",
       " 'BRAŞOV': Counter({True: 21}),\n",
       " 'BRĂILA': Counter({True: 6}),\n",
       " 'BUZĂU': Counter({True: 10, False: 1}),\n",
       " 'CARAŞ-SEVERIN': Counter({True: 26, False: 2}),\n",
       " 'CLUJ': Counter({True: 18, False: 1}),\n",
       " 'CONSTANŢA': Counter({True: 21, False: 2}),\n",
       " 'COVASNA': Counter({True: 25, False: 5}),\n",
       " 'CĂLĂRAŞI': Counter({True: 8, False: 3}),\n",
       " 'DOLJ': Counter({False: 2, True: 17}),\n",
       " 'DÂMBOVIŢA': Counter({True: 7, False: 5}),\n",
       " 'GALAŢI': Counter({True: 17, False: 2}),\n",
       " 'GIURGIU': Counter({False: 1}),\n",
       " 'GORJ': Counter({False: 1, True: 30}),\n",
       " 'HARGHITA': Counter({True: 34, False: 1}),\n",
       " 'HUNEDOARA': Counter({True: 31, False: 1}),\n",
       " 'IALOMIŢA': Counter({True: 8, False: 1}),\n",
       " 'IAŞI': Counter({True: 28, False: 1}),\n",
       " 'ILFOV': Counter({True: 16, False: 1}),\n",
       " 'MARAMUREŞ': Counter({True: 19, False: 2}),\n",
       " 'MEHEDINŢI': Counter({True: 7}),\n",
       " 'MUNICIPIUL BUCUREŞTI': Counter({True: 16, False: 1}),\n",
       " 'MUREŞ': Counter({True: 14, False: 1}),\n",
       " 'NEAMŢ': Counter({True: 37, False: 3}),\n",
       " 'OLT': Counter({True: 23, False: 5}),\n",
       " 'PRAHOVA': Counter({True: 18}),\n",
       " 'SATU MARE': Counter({True: 12}),\n",
       " 'SUCEAVA': Counter({True: 33, False: 1}),\n",
       " 'SĂLAJ': Counter({True: 20, False: 1}),\n",
       " 'TELEORMAN': Counter({True: 4}),\n",
       " 'TIMIŞ': Counter({True: 20, False: 3}),\n",
       " 'TULCEA': Counter({True: 16, False: 3}),\n",
       " 'VASLUI': Counter({True: 13, False: 1}),\n",
       " 'VRANCEA': Counter({True: 12}),\n",
       " 'VÂLCEA': Counter({True: 23, False: 1})}"
      ]
     },
     "execution_count": 87,
     "metadata": {},
     "output_type": "execute_result"
    }
   ],
   "source": [
    "itp = {}\n",
    "\n",
    "for county in counties:\n",
    "    itp[county] = []\n",
    "    \n",
    "for institution in data:\n",
    "    for transport in institution['objective']['resources']['transport']:\n",
    "        itp[institution['objective']['location'].get('county')] += [transport['itp']]\n",
    "        \n",
    "for county in counties:\n",
    "    itp[county] = Counter(itp[county])\n",
    "    \n",
    "itp"
   ]
  }
 ],
 "metadata": {
  "kernelspec": {
   "display_name": "Python 3",
   "language": "python",
   "name": "python3"
  },
  "language_info": {
   "codemirror_mode": {
    "name": "ipython",
    "version": 3
   },
   "file_extension": ".py",
   "mimetype": "text/x-python",
   "name": "python",
   "nbconvert_exporter": "python",
   "pygments_lexer": "ipython3",
   "version": "3.7.3"
  }
 },
 "nbformat": 4,
 "nbformat_minor": 2
}
